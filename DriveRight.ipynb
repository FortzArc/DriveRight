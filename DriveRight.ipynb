{
  "nbformat": 4,
  "nbformat_minor": 0,
  "metadata": {
    "colab": {
      "name": "DriveRight",
      "provenance": [],
      "collapsed_sections": []
    },
    "kernelspec": {
      "name": "python3",
      "display_name": "Python 3"
    }
  },
  "cells": [
    {
      "cell_type": "markdown",
      "metadata": {
        "id": "1KwaWR566MsR",
        "colab_type": "text"
      },
      "source": [
        "### Drive Right"
      ]
    },
    {
      "cell_type": "markdown",
      "metadata": {
        "id": "w5-dSLjt6Snf",
        "colab_type": "text"
      },
      "source": [
        "Drive Right is a smart Navigation App that aims to reduce carbon dioxide emissions and help users save fuel and choose the most fuel efficient route through data analysis."
      ]
    },
    {
      "cell_type": "code",
      "metadata": {
        "id": "hpvKL8HoIiDw",
        "colab_type": "code",
        "colab": {}
      },
      "source": [
        "import pandas as pd\n",
        "\n",
        "import numpy as np\n",
        "\n",
        "from __future__ import absolute_import, division, print_function, unicode_literals\n",
        "\n",
        "import tensorflow as tf\n",
        "\n",
        "import matplotlib.pyplot as plt\n",
        "\n",
        "import sklearn\n",
        "\n",
        "import seaborn as sns\n"
      ],
      "execution_count": 0,
      "outputs": []
    },
    {
      "cell_type": "code",
      "metadata": {
        "id": "TnjWnBNy2D3U",
        "colab_type": "code",
        "outputId": "299e14b3-aa5b-42f8-8da3-fa43be96dcd6",
        "colab": {
          "resources": {
            "http://localhost:8080/nbextensions/google.colab/files.js": {
              "data": "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",
              "ok": true,
              "headers": [
                [
                  "content-type",
                  "application/javascript"
                ]
              ],
              "status": 200,
              "status_text": "OK"
            }
          },
          "base_uri": "https://localhost:8080/",
          "height": 76
        }
      },
      "source": [
        "from google.colab import files\n",
        "fileOne = files.upload()"
      ],
      "execution_count": 3,
      "outputs": [
        {
          "output_type": "display_data",
          "data": {
            "text/html": [
              "\n",
              "     <input type=\"file\" id=\"files-91b80784-50b9-41e3-8f16-2dc9b90dd378\" name=\"files[]\" multiple disabled />\n",
              "     <output id=\"result-91b80784-50b9-41e3-8f16-2dc9b90dd378\">\n",
              "      Upload widget is only available when the cell has been executed in the\n",
              "      current browser session. Please rerun this cell to enable.\n",
              "      </output>\n",
              "      <script src=\"/nbextensions/google.colab/files.js\"></script> "
            ],
            "text/plain": [
              "<IPython.core.display.HTML object>"
            ]
          },
          "metadata": {
            "tags": []
          }
        },
        {
          "output_type": "stream",
          "text": [
            "Saving MPGvsCO2.csv to MPGvsCO2.csv\n"
          ],
          "name": "stdout"
        }
      ]
    },
    {
      "cell_type": "code",
      "metadata": {
        "id": "c5wjHRdJ2Tdw",
        "colab_type": "code",
        "outputId": "77c7363c-13be-46e7-dea8-d219a2580bd0",
        "colab": {
          "resources": {
            "http://localhost:8080/nbextensions/google.colab/files.js": {
              "data": "Ly8gQ29weXJpZ2h0IDIwMTcgR29vZ2xlIExMQwovLwovLyBMaWNlbnNlZCB1bmRlciB0aGUgQXBhY2hlIExpY2Vuc2UsIFZlcnNpb24gMi4wICh0aGUgIkxpY2Vuc2UiKTsKLy8geW91IG1heSBub3QgdXNlIHRoaXMgZmlsZSBleGNlcHQgaW4gY29tcGxpYW5jZSB3aXRoIHRoZSBMaWNlbnNlLgovLyBZb3UgbWF5IG9idGFpbiBhIGNvcHkgb2YgdGhlIExpY2Vuc2UgYXQKLy8KLy8gICAgICBodHRwOi8vd3d3LmFwYWNoZS5vcmcvbGljZW5zZXMvTElDRU5TRS0yLjAKLy8KLy8gVW5sZXNzIHJlcXVpcmVkIGJ5IGFwcGxpY2FibGUgbGF3IG9yIGFncmVlZCB0byBpbiB3cml0aW5nLCBzb2Z0d2FyZQovLyBkaXN0cmlidXRlZCB1bmRlciB0aGUgTGljZW5zZSBpcyBkaXN0cmlidXRlZCBvbiBhbiAiQVMgSVMiIEJBU0lTLAovLyBXSVRIT1VUIFdBUlJBTlRJRVMgT1IgQ09ORElUSU9OUyBPRiBBTlkgS0lORCwgZWl0aGVyIGV4cHJlc3Mgb3IgaW1wbGllZC4KLy8gU2VlIHRoZSBMaWNlbnNlIGZvciB0aGUgc3BlY2lmaWMgbGFuZ3VhZ2UgZ292ZXJuaW5nIHBlcm1pc3Npb25zIGFuZAovLyBsaW1pdGF0aW9ucyB1bmRlciB0aGUgTGljZW5zZS4KCi8qKgogKiBAZmlsZW92ZXJ2aWV3IEhlbHBlcnMgZm9yIGdvb2dsZS5jb2xhYiBQeXRob24gbW9kdWxlLgogKi8KKGZ1bmN0aW9uKHNjb3BlKSB7CmZ1bmN0aW9uIHNwYW4odGV4dCwgc3R5bGVBdHRyaWJ1dGVzID0ge30pIHsKICBjb25zdCBlbGVtZW50ID0gZG9jdW1lbnQuY3JlYXRlRWxlbWVudCgnc3BhbicpOwogIGVsZW1lbnQudGV4dENvbnRlbnQgPSB0ZXh0OwogIGZvciAoY29uc3Qga2V5IG9mIE9iamVjdC5rZXlzKHN0eWxlQXR0cmlidXRlcykpIHsKICAgIGVsZW1lbnQuc3R5bGVba2V5XSA9IHN0eWxlQXR0cmlidXRlc1trZXldOwogIH0KICByZXR1cm4gZWxlbWVudDsKfQoKLy8gTWF4IG51bWJlciBvZiBieXRlcyB3aGljaCB3aWxsIGJlIHVwbG9hZGVkIGF0IGEgdGltZS4KY29uc3QgTUFYX1BBWUxPQURfU0laRSA9IDEwMCAqIDEwMjQ7Ci8vIE1heCBhbW91bnQgb2YgdGltZSB0byBibG9jayB3YWl0aW5nIGZvciB0aGUgdXNlci4KY29uc3QgRklMRV9DSEFOR0VfVElNRU9VVF9NUyA9IDMwICogMTAwMDsKCmZ1bmN0aW9uIF91cGxvYWRGaWxlcyhpbnB1dElkLCBvdXRwdXRJZCkgewogIGNvbnN0IHN0ZXBzID0gdXBsb2FkRmlsZXNTdGVwKGlucHV0SWQsIG91dHB1dElkKTsKICBjb25zdCBvdXRwdXRFbGVtZW50ID0gZG9jdW1lbnQuZ2V0RWxlbWVudEJ5SWQob3V0cHV0SWQpOwogIC8vIENhY2hlIHN0ZXBzIG9uIHRoZSBvdXRwdXRFbGVtZW50IHRvIG1ha2UgaXQgYXZhaWxhYmxlIGZvciB0aGUgbmV4dCBjYWxsCiAgLy8gdG8gdXBsb2FkRmlsZXNDb250aW51ZSBmcm9tIFB5dGhvbi4KICBvdXRwdXRFbGVtZW50LnN0ZXBzID0gc3RlcHM7CgogIHJldHVybiBfdXBsb2FkRmlsZXNDb250aW51ZShvdXRwdXRJZCk7Cn0KCi8vIFRoaXMgaXMgcm91Z2hseSBhbiBhc3luYyBnZW5lcmF0b3IgKG5vdCBzdXBwb3J0ZWQgaW4gdGhlIGJyb3dzZXIgeWV0KSwKLy8gd2hlcmUgdGhlcmUgYXJlIG11bHRpcGxlIGFzeW5jaHJvbm91cyBzdGVwcyBhbmQgdGhlIFB5dGhvbiBzaWRlIGlzIGdvaW5nCi8vIHRvIHBvbGwgZm9yIGNvbXBsZXRpb24gb2YgZWFjaCBzdGVwLgovLyBUaGlzIHVzZXMgYSBQcm9taXNlIHRvIGJsb2NrIHRoZSBweXRob24gc2lkZSBvbiBjb21wbGV0aW9uIG9mIGVhY2ggc3RlcCwKLy8gdGhlbiBwYXNzZXMgdGhlIHJlc3VsdCBvZiB0aGUgcHJldmlvdXMgc3RlcCBhcyB0aGUgaW5wdXQgdG8gdGhlIG5leHQgc3RlcC4KZnVuY3Rpb24gX3VwbG9hZEZpbGVzQ29udGludWUob3V0cHV0SWQpIHsKICBjb25zdCBvdXRwdXRFbGVtZW50ID0gZG9jdW1lbnQuZ2V0RWxlbWVudEJ5SWQob3V0cHV0SWQpOwogIGNvbnN0IHN0ZXBzID0gb3V0cHV0RWxlbWVudC5zdGVwczsKCiAgY29uc3QgbmV4dCA9IHN0ZXBzLm5leHQob3V0cHV0RWxlbWVudC5sYXN0UHJvbWlzZVZhbHVlKTsKICByZXR1cm4gUHJvbWlzZS5yZXNvbHZlKG5leHQudmFsdWUucHJvbWlzZSkudGhlbigodmFsdWUpID0+IHsKICAgIC8vIENhY2hlIHRoZSBsYXN0IHByb21pc2UgdmFsdWUgdG8gbWFrZSBpdCBhdmFpbGFibGUgdG8gdGhlIG5leHQKICAgIC8vIHN0ZXAgb2YgdGhlIGdlbmVyYXRvci4KICAgIG91dHB1dEVsZW1lbnQubGFzdFByb21pc2VWYWx1ZSA9IHZhbHVlOwogICAgcmV0dXJuIG5leHQudmFsdWUucmVzcG9uc2U7CiAgfSk7Cn0KCi8qKgogKiBHZW5lcmF0b3IgZnVuY3Rpb24gd2hpY2ggaXMgY2FsbGVkIGJldHdlZW4gZWFjaCBhc3luYyBzdGVwIG9mIHRoZSB1cGxvYWQKICogcHJvY2Vzcy4KICogQHBhcmFtIHtzdHJpbmd9IGlucHV0SWQgRWxlbWVudCBJRCBvZiB0aGUgaW5wdXQgZmlsZSBwaWNrZXIgZWxlbWVudC4KICogQHBhcmFtIHtzdHJpbmd9IG91dHB1dElkIEVsZW1lbnQgSUQgb2YgdGhlIG91dHB1dCBkaXNwbGF5LgogKiBAcmV0dXJuIHshSXRlcmFibGU8IU9iamVjdD59IEl0ZXJhYmxlIG9mIG5leHQgc3RlcHMuCiAqLwpmdW5jdGlvbiogdXBsb2FkRmlsZXNTdGVwKGlucHV0SWQsIG91dHB1dElkKSB7CiAgY29uc3QgaW5wdXRFbGVtZW50ID0gZG9jdW1lbnQuZ2V0RWxlbWVudEJ5SWQoaW5wdXRJZCk7CiAgaW5wdXRFbGVtZW50LmRpc2FibGVkID0gZmFsc2U7CgogIGNvbnN0IG91dHB1dEVsZW1lbnQgPSBkb2N1bWVudC5nZXRFbGVtZW50QnlJZChvdXRwdXRJZCk7CiAgb3V0cHV0RWxlbWVudC5pbm5lckhUTUwgPSAnJzsKCiAgY29uc3QgcGlja2VkUHJvbWlzZSA9IG5ldyBQcm9taXNlKChyZXNvbHZlKSA9PiB7CiAgICBpbnB1dEVsZW1lbnQuYWRkRXZlbnRMaXN0ZW5lcignY2hhbmdlJywgKGUpID0+IHsKICAgICAgcmVzb2x2ZShlLnRhcmdldC5maWxlcyk7CiAgICB9KTsKICB9KTsKCiAgY29uc3QgY2FuY2VsID0gZG9jdW1lbnQuY3JlYXRlRWxlbWVudCgnYnV0dG9uJyk7CiAgaW5wdXRFbGVtZW50LnBhcmVudEVsZW1lbnQuYXBwZW5kQ2hpbGQoY2FuY2VsKTsKICBjYW5jZWwudGV4dENvbnRlbnQgPSAnQ2FuY2VsIHVwbG9hZCc7CiAgY29uc3QgY2FuY2VsUHJvbWlzZSA9IG5ldyBQcm9taXNlKChyZXNvbHZlKSA9PiB7CiAgICBjYW5jZWwub25jbGljayA9ICgpID0+IHsKICAgICAgcmVzb2x2ZShudWxsKTsKICAgIH07CiAgfSk7CgogIC8vIENhbmNlbCB1cGxvYWQgaWYgdXNlciBoYXNuJ3QgcGlja2VkIGFueXRoaW5nIGluIHRpbWVvdXQuCiAgY29uc3QgdGltZW91dFByb21pc2UgPSBuZXcgUHJvbWlzZSgocmVzb2x2ZSkgPT4gewogICAgc2V0VGltZW91dCgoKSA9PiB7CiAgICAgIHJlc29sdmUobnVsbCk7CiAgICB9LCBGSUxFX0NIQU5HRV9USU1FT1VUX01TKTsKICB9KTsKCiAgLy8gV2FpdCBmb3IgdGhlIHVzZXIgdG8gcGljayB0aGUgZmlsZXMuCiAgY29uc3QgZmlsZXMgPSB5aWVsZCB7CiAgICBwcm9taXNlOiBQcm9taXNlLnJhY2UoW3BpY2tlZFByb21pc2UsIHRpbWVvdXRQcm9taXNlLCBjYW5jZWxQcm9taXNlXSksCiAgICByZXNwb25zZTogewogICAgICBhY3Rpb246ICdzdGFydGluZycsCiAgICB9CiAgfTsKCiAgaWYgKCFmaWxlcykgewogICAgcmV0dXJuIHsKICAgICAgcmVzcG9uc2U6IHsKICAgICAgICBhY3Rpb246ICdjb21wbGV0ZScsCiAgICAgIH0KICAgIH07CiAgfQoKICBjYW5jZWwucmVtb3ZlKCk7CgogIC8vIERpc2FibGUgdGhlIGlucHV0IGVsZW1lbnQgc2luY2UgZnVydGhlciBwaWNrcyBhcmUgbm90IGFsbG93ZWQuCiAgaW5wdXRFbGVtZW50LmRpc2FibGVkID0gdHJ1ZTsKCiAgZm9yIChjb25zdCBmaWxlIG9mIGZpbGVzKSB7CiAgICBjb25zdCBsaSA9IGRvY3VtZW50LmNyZWF0ZUVsZW1lbnQoJ2xpJyk7CiAgICBsaS5hcHBlbmQoc3BhbihmaWxlLm5hbWUsIHtmb250V2VpZ2h0OiAnYm9sZCd9KSk7CiAgICBsaS5hcHBlbmQoc3BhbigKICAgICAgICBgKCR7ZmlsZS50eXBlIHx8ICduL2EnfSkgLSAke2ZpbGUuc2l6ZX0gYnl0ZXMsIGAgKwogICAgICAgIGBsYXN0IG1vZGlmaWVkOiAkewogICAgICAgICAgICBmaWxlLmxhc3RNb2RpZmllZERhdGUgPyBmaWxlLmxhc3RNb2RpZmllZERhdGUudG9Mb2NhbGVEYXRlU3RyaW5nKCkgOgogICAgICAgICAgICAgICAgICAgICAgICAgICAgICAgICAgICAnbi9hJ30gLSBgKSk7CiAgICBjb25zdCBwZXJjZW50ID0gc3BhbignMCUgZG9uZScpOwogICAgbGkuYXBwZW5kQ2hpbGQocGVyY2VudCk7CgogICAgb3V0cHV0RWxlbWVudC5hcHBlbmRDaGlsZChsaSk7CgogICAgY29uc3QgZmlsZURhdGFQcm9taXNlID0gbmV3IFByb21pc2UoKHJlc29sdmUpID0+IHsKICAgICAgY29uc3QgcmVhZGVyID0gbmV3IEZpbGVSZWFkZXIoKTsKICAgICAgcmVhZGVyLm9ubG9hZCA9IChlKSA9PiB7CiAgICAgICAgcmVzb2x2ZShlLnRhcmdldC5yZXN1bHQpOwogICAgICB9OwogICAgICByZWFkZXIucmVhZEFzQXJyYXlCdWZmZXIoZmlsZSk7CiAgICB9KTsKICAgIC8vIFdhaXQgZm9yIHRoZSBkYXRhIHRvIGJlIHJlYWR5LgogICAgbGV0IGZpbGVEYXRhID0geWllbGQgewogICAgICBwcm9taXNlOiBmaWxlRGF0YVByb21pc2UsCiAgICAgIHJlc3BvbnNlOiB7CiAgICAgICAgYWN0aW9uOiAnY29udGludWUnLAogICAgICB9CiAgICB9OwoKICAgIC8vIFVzZSBhIGNodW5rZWQgc2VuZGluZyB0byBhdm9pZCBtZXNzYWdlIHNpemUgbGltaXRzLiBTZWUgYi82MjExNTY2MC4KICAgIGxldCBwb3NpdGlvbiA9IDA7CiAgICB3aGlsZSAocG9zaXRpb24gPCBmaWxlRGF0YS5ieXRlTGVuZ3RoKSB7CiAgICAgIGNvbnN0IGxlbmd0aCA9IE1hdGgubWluKGZpbGVEYXRhLmJ5dGVMZW5ndGggLSBwb3NpdGlvbiwgTUFYX1BBWUxPQURfU0laRSk7CiAgICAgIGNvbnN0IGNodW5rID0gbmV3IFVpbnQ4QXJyYXkoZmlsZURhdGEsIHBvc2l0aW9uLCBsZW5ndGgpOwogICAgICBwb3NpdGlvbiArPSBsZW5ndGg7CgogICAgICBjb25zdCBiYXNlNjQgPSBidG9hKFN0cmluZy5mcm9tQ2hhckNvZGUuYXBwbHkobnVsbCwgY2h1bmspKTsKICAgICAgeWllbGQgewogICAgICAgIHJlc3BvbnNlOiB7CiAgICAgICAgICBhY3Rpb246ICdhcHBlbmQnLAogICAgICAgICAgZmlsZTogZmlsZS5uYW1lLAogICAgICAgICAgZGF0YTogYmFzZTY0LAogICAgICAgIH0sCiAgICAgIH07CiAgICAgIHBlcmNlbnQudGV4dENvbnRlbnQgPQogICAgICAgICAgYCR7TWF0aC5yb3VuZCgocG9zaXRpb24gLyBmaWxlRGF0YS5ieXRlTGVuZ3RoKSAqIDEwMCl9JSBkb25lYDsKICAgIH0KICB9CgogIC8vIEFsbCBkb25lLgogIHlpZWxkIHsKICAgIHJlc3BvbnNlOiB7CiAgICAgIGFjdGlvbjogJ2NvbXBsZXRlJywKICAgIH0KICB9Owp9CgpzY29wZS5nb29nbGUgPSBzY29wZS5nb29nbGUgfHwge307CnNjb3BlLmdvb2dsZS5jb2xhYiA9IHNjb3BlLmdvb2dsZS5jb2xhYiB8fCB7fTsKc2NvcGUuZ29vZ2xlLmNvbGFiLl9maWxlcyA9IHsKICBfdXBsb2FkRmlsZXMsCiAgX3VwbG9hZEZpbGVzQ29udGludWUsCn07Cn0pKHNlbGYpOwo=",
              "ok": true,
              "headers": [
                [
                  "content-type",
                  "application/javascript"
                ]
              ],
              "status": 200,
              "status_text": "OK"
            }
          },
          "base_uri": "https://localhost:8080/",
          "height": 76
        }
      },
      "source": [
        "fileTwo = files.upload()"
      ],
      "execution_count": 4,
      "outputs": [
        {
          "output_type": "display_data",
          "data": {
            "text/html": [
              "\n",
              "     <input type=\"file\" id=\"files-c3c0945d-ea03-497d-8387-f250f4e2e014\" name=\"files[]\" multiple disabled />\n",
              "     <output id=\"result-c3c0945d-ea03-497d-8387-f250f4e2e014\">\n",
              "      Upload widget is only available when the cell has been executed in the\n",
              "      current browser session. Please rerun this cell to enable.\n",
              "      </output>\n",
              "      <script src=\"/nbextensions/google.colab/files.js\"></script> "
            ],
            "text/plain": [
              "<IPython.core.display.HTML object>"
            ]
          },
          "metadata": {
            "tags": []
          }
        },
        {
          "output_type": "stream",
          "text": [
            "Saving TrafficCongestionVsCO2.csv to TrafficCongestionVsCO2.csv\n"
          ],
          "name": "stdout"
        }
      ]
    },
    {
      "cell_type": "code",
      "metadata": {
        "id": "2DHGN5LP27u4",
        "colab_type": "code",
        "colab": {}
      },
      "source": [
        "datasetOne = pd.read_csv('MPGvsCO2.csv')\n",
        "\n",
        "datasetTwo = pd.read_csv('TrafficCongestionVsCO2.csv')"
      ],
      "execution_count": 0,
      "outputs": []
    },
    {
      "cell_type": "code",
      "metadata": {
        "id": "OpE5Em8S94wJ",
        "colab_type": "code",
        "outputId": "5e586a09-a955-43da-fabd-38bda5f216ae",
        "colab": {
          "base_uri": "https://localhost:8080/",
          "height": 1000
        }
      },
      "source": [
        "datasetOne.head(50)\n"
      ],
      "execution_count": 6,
      "outputs": [
        {
          "output_type": "execute_result",
          "data": {
            "text/html": [
              "<div>\n",
              "<style scoped>\n",
              "    .dataframe tbody tr th:only-of-type {\n",
              "        vertical-align: middle;\n",
              "    }\n",
              "\n",
              "    .dataframe tbody tr th {\n",
              "        vertical-align: top;\n",
              "    }\n",
              "\n",
              "    .dataframe thead th {\n",
              "        text-align: right;\n",
              "    }\n",
              "</style>\n",
              "<table border=\"1\" class=\"dataframe\">\n",
              "  <thead>\n",
              "    <tr style=\"text-align: right;\">\n",
              "      <th></th>\n",
              "      <th>MPG1</th>\n",
              "      <th>CO2 Emission1</th>\n",
              "      <th>MPG2</th>\n",
              "      <th>CO2 Emissions2</th>\n",
              "      <th>MPG3</th>\n",
              "      <th>CO2 Emissions3</th>\n",
              "    </tr>\n",
              "  </thead>\n",
              "  <tbody>\n",
              "    <tr>\n",
              "      <th>0</th>\n",
              "      <td>19</td>\n",
              "      <td>423.190476</td>\n",
              "      <td>15</td>\n",
              "      <td>493.722222</td>\n",
              "      <td>17</td>\n",
              "      <td>444.350000</td>\n",
              "    </tr>\n",
              "    <tr>\n",
              "      <th>1</th>\n",
              "      <td>9</td>\n",
              "      <td>807.909091</td>\n",
              "      <td>15</td>\n",
              "      <td>493.722222</td>\n",
              "      <td>17</td>\n",
              "      <td>467.736842</td>\n",
              "    </tr>\n",
              "    <tr>\n",
              "      <th>2</th>\n",
              "      <td>23</td>\n",
              "      <td>329.148148</td>\n",
              "      <td>17</td>\n",
              "      <td>444.350000</td>\n",
              "      <td>18</td>\n",
              "      <td>444.350000</td>\n",
              "    </tr>\n",
              "    <tr>\n",
              "      <th>3</th>\n",
              "      <td>10</td>\n",
              "      <td>807.909091</td>\n",
              "      <td>9</td>\n",
              "      <td>807.909091</td>\n",
              "      <td>17</td>\n",
              "      <td>467.736842</td>\n",
              "    </tr>\n",
              "    <tr>\n",
              "      <th>4</th>\n",
              "      <td>17</td>\n",
              "      <td>467.736842</td>\n",
              "      <td>15</td>\n",
              "      <td>493.722222</td>\n",
              "      <td>11</td>\n",
              "      <td>683.615385</td>\n",
              "    </tr>\n",
              "    <tr>\n",
              "      <th>5</th>\n",
              "      <td>21</td>\n",
              "      <td>403.954545</td>\n",
              "      <td>16</td>\n",
              "      <td>493.722222</td>\n",
              "      <td>19</td>\n",
              "      <td>423.190476</td>\n",
              "    </tr>\n",
              "    <tr>\n",
              "      <th>6</th>\n",
              "      <td>22</td>\n",
              "      <td>355.480000</td>\n",
              "      <td>17</td>\n",
              "      <td>467.736842</td>\n",
              "      <td>21</td>\n",
              "      <td>386.391304</td>\n",
              "    </tr>\n",
              "    <tr>\n",
              "      <th>7</th>\n",
              "      <td>23</td>\n",
              "      <td>370.291667</td>\n",
              "      <td>17</td>\n",
              "      <td>444.350000</td>\n",
              "      <td>18</td>\n",
              "      <td>444.350000</td>\n",
              "    </tr>\n",
              "    <tr>\n",
              "      <th>8</th>\n",
              "      <td>23</td>\n",
              "      <td>341.807692</td>\n",
              "      <td>16</td>\n",
              "      <td>493.722222</td>\n",
              "      <td>21</td>\n",
              "      <td>386.391304</td>\n",
              "    </tr>\n",
              "    <tr>\n",
              "      <th>9</th>\n",
              "      <td>23</td>\n",
              "      <td>355.480000</td>\n",
              "      <td>16</td>\n",
              "      <td>467.736842</td>\n",
              "      <td>19</td>\n",
              "      <td>423.190476</td>\n",
              "    </tr>\n",
              "    <tr>\n",
              "      <th>10</th>\n",
              "      <td>23</td>\n",
              "      <td>341.807692</td>\n",
              "      <td>15</td>\n",
              "      <td>555.437500</td>\n",
              "      <td>18</td>\n",
              "      <td>444.350000</td>\n",
              "    </tr>\n",
              "    <tr>\n",
              "      <th>11</th>\n",
              "      <td>18</td>\n",
              "      <td>423.190476</td>\n",
              "      <td>21</td>\n",
              "      <td>386.391304</td>\n",
              "      <td>17</td>\n",
              "      <td>467.736842</td>\n",
              "    </tr>\n",
              "    <tr>\n",
              "      <th>12</th>\n",
              "      <td>21</td>\n",
              "      <td>370.291667</td>\n",
              "      <td>18</td>\n",
              "      <td>423.190476</td>\n",
              "      <td>19</td>\n",
              "      <td>423.190476</td>\n",
              "    </tr>\n",
              "    <tr>\n",
              "      <th>13</th>\n",
              "      <td>18</td>\n",
              "      <td>423.190476</td>\n",
              "      <td>13</td>\n",
              "      <td>592.466667</td>\n",
              "      <td>17</td>\n",
              "      <td>467.736842</td>\n",
              "    </tr>\n",
              "    <tr>\n",
              "      <th>14</th>\n",
              "      <td>12</td>\n",
              "      <td>683.615385</td>\n",
              "      <td>22</td>\n",
              "      <td>355.480000</td>\n",
              "      <td>18</td>\n",
              "      <td>423.190476</td>\n",
              "    </tr>\n",
              "    <tr>\n",
              "      <th>15</th>\n",
              "      <td>20</td>\n",
              "      <td>386.391304</td>\n",
              "      <td>25</td>\n",
              "      <td>317.392857</td>\n",
              "      <td>15</td>\n",
              "      <td>565.555556</td>\n",
              "    </tr>\n",
              "    <tr>\n",
              "      <th>16</th>\n",
              "      <td>18</td>\n",
              "      <td>444.350000</td>\n",
              "      <td>18</td>\n",
              "      <td>423.190476</td>\n",
              "      <td>17</td>\n",
              "      <td>467.736842</td>\n",
              "    </tr>\n",
              "    <tr>\n",
              "      <th>17</th>\n",
              "      <td>19</td>\n",
              "      <td>423.190476</td>\n",
              "      <td>20</td>\n",
              "      <td>403.954545</td>\n",
              "      <td>18</td>\n",
              "      <td>423.190476</td>\n",
              "    </tr>\n",
              "    <tr>\n",
              "      <th>18</th>\n",
              "      <td>17</td>\n",
              "      <td>467.736842</td>\n",
              "      <td>22</td>\n",
              "      <td>355.480000</td>\n",
              "      <td>17</td>\n",
              "      <td>467.736842</td>\n",
              "    </tr>\n",
              "    <tr>\n",
              "      <th>19</th>\n",
              "      <td>17</td>\n",
              "      <td>467.736842</td>\n",
              "      <td>25</td>\n",
              "      <td>317.392857</td>\n",
              "      <td>21</td>\n",
              "      <td>386.391304</td>\n",
              "    </tr>\n",
              "    <tr>\n",
              "      <th>20</th>\n",
              "      <td>14</td>\n",
              "      <td>555.437500</td>\n",
              "      <td>22</td>\n",
              "      <td>341.807692</td>\n",
              "      <td>18</td>\n",
              "      <td>444.350000</td>\n",
              "    </tr>\n",
              "    <tr>\n",
              "      <th>21</th>\n",
              "      <td>14</td>\n",
              "      <td>555.437500</td>\n",
              "      <td>14</td>\n",
              "      <td>592.466667</td>\n",
              "      <td>21</td>\n",
              "      <td>386.391304</td>\n",
              "    </tr>\n",
              "    <tr>\n",
              "      <th>22</th>\n",
              "      <td>11</td>\n",
              "      <td>683.615385</td>\n",
              "      <td>21</td>\n",
              "      <td>370.291667</td>\n",
              "      <td>19</td>\n",
              "      <td>423.190476</td>\n",
              "    </tr>\n",
              "    <tr>\n",
              "      <th>23</th>\n",
              "      <td>21</td>\n",
              "      <td>386.391304</td>\n",
              "      <td>24</td>\n",
              "      <td>317.392857</td>\n",
              "      <td>17</td>\n",
              "      <td>467.736842</td>\n",
              "    </tr>\n",
              "    <tr>\n",
              "      <th>24</th>\n",
              "      <td>17</td>\n",
              "      <td>467.736842</td>\n",
              "      <td>21</td>\n",
              "      <td>355.480000</td>\n",
              "      <td>18</td>\n",
              "      <td>444.350000</td>\n",
              "    </tr>\n",
              "    <tr>\n",
              "      <th>25</th>\n",
              "      <td>11</td>\n",
              "      <td>683.615385</td>\n",
              "      <td>19</td>\n",
              "      <td>403.954545</td>\n",
              "      <td>17</td>\n",
              "      <td>467.736842</td>\n",
              "    </tr>\n",
              "    <tr>\n",
              "      <th>26</th>\n",
              "      <td>18</td>\n",
              "      <td>423.190476</td>\n",
              "      <td>20</td>\n",
              "      <td>386.391304</td>\n",
              "      <td>17</td>\n",
              "      <td>444.350000</td>\n",
              "    </tr>\n",
              "    <tr>\n",
              "      <th>27</th>\n",
              "      <td>17</td>\n",
              "      <td>444.350000</td>\n",
              "      <td>18</td>\n",
              "      <td>423.190476</td>\n",
              "      <td>16</td>\n",
              "      <td>598.823529</td>\n",
              "    </tr>\n",
              "    <tr>\n",
              "      <th>28</th>\n",
              "      <td>17</td>\n",
              "      <td>444.350000</td>\n",
              "      <td>18</td>\n",
              "      <td>423.190476</td>\n",
              "      <td>19</td>\n",
              "      <td>423.190476</td>\n",
              "    </tr>\n",
              "    <tr>\n",
              "      <th>29</th>\n",
              "      <td>17</td>\n",
              "      <td>444.350000</td>\n",
              "      <td>16</td>\n",
              "      <td>493.722222</td>\n",
              "      <td>18</td>\n",
              "      <td>423.190476</td>\n",
              "    </tr>\n",
              "    <tr>\n",
              "      <th>30</th>\n",
              "      <td>17</td>\n",
              "      <td>444.350000</td>\n",
              "      <td>21</td>\n",
              "      <td>403.954545</td>\n",
              "      <td>16</td>\n",
              "      <td>467.736842</td>\n",
              "    </tr>\n",
              "    <tr>\n",
              "      <th>31</th>\n",
              "      <td>15</td>\n",
              "      <td>493.722222</td>\n",
              "      <td>22</td>\n",
              "      <td>370.291667</td>\n",
              "      <td>18</td>\n",
              "      <td>423.190476</td>\n",
              "    </tr>\n",
              "    <tr>\n",
              "      <th>32</th>\n",
              "      <td>15</td>\n",
              "      <td>522.764706</td>\n",
              "      <td>11</td>\n",
              "      <td>740.583333</td>\n",
              "      <td>18</td>\n",
              "      <td>403.954545</td>\n",
              "    </tr>\n",
              "    <tr>\n",
              "      <th>33</th>\n",
              "      <td>15</td>\n",
              "      <td>493.722222</td>\n",
              "      <td>23</td>\n",
              "      <td>355.480000</td>\n",
              "      <td>15</td>\n",
              "      <td>493.722222</td>\n",
              "    </tr>\n",
              "    <tr>\n",
              "      <th>34</th>\n",
              "      <td>15</td>\n",
              "      <td>522.764706</td>\n",
              "      <td>23</td>\n",
              "      <td>341.807692</td>\n",
              "      <td>17</td>\n",
              "      <td>444.350000</td>\n",
              "    </tr>\n",
              "    <tr>\n",
              "      <th>35</th>\n",
              "      <td>18</td>\n",
              "      <td>423.190476</td>\n",
              "      <td>18</td>\n",
              "      <td>423.190476</td>\n",
              "      <td>18</td>\n",
              "      <td>444.350000</td>\n",
              "    </tr>\n",
              "    <tr>\n",
              "      <th>36</th>\n",
              "      <td>11</td>\n",
              "      <td>683.615385</td>\n",
              "      <td>17</td>\n",
              "      <td>467.736842</td>\n",
              "      <td>18</td>\n",
              "      <td>423.190476</td>\n",
              "    </tr>\n",
              "    <tr>\n",
              "      <th>37</th>\n",
              "      <td>17</td>\n",
              "      <td>444.350000</td>\n",
              "      <td>18</td>\n",
              "      <td>423.190476</td>\n",
              "      <td>17</td>\n",
              "      <td>467.736842</td>\n",
              "    </tr>\n",
              "    <tr>\n",
              "      <th>38</th>\n",
              "      <td>17</td>\n",
              "      <td>444.350000</td>\n",
              "      <td>18</td>\n",
              "      <td>444.350000</td>\n",
              "      <td>10</td>\n",
              "      <td>807.909091</td>\n",
              "    </tr>\n",
              "    <tr>\n",
              "      <th>39</th>\n",
              "      <td>15</td>\n",
              "      <td>493.722222</td>\n",
              "      <td>21</td>\n",
              "      <td>386.391304</td>\n",
              "      <td>17</td>\n",
              "      <td>444.350000</td>\n",
              "    </tr>\n",
              "    <tr>\n",
              "      <th>40</th>\n",
              "      <td>15</td>\n",
              "      <td>493.722222</td>\n",
              "      <td>19</td>\n",
              "      <td>423.190476</td>\n",
              "      <td>15</td>\n",
              "      <td>493.722222</td>\n",
              "    </tr>\n",
              "    <tr>\n",
              "      <th>41</th>\n",
              "      <td>18</td>\n",
              "      <td>444.350000</td>\n",
              "      <td>21</td>\n",
              "      <td>386.391304</td>\n",
              "      <td>15</td>\n",
              "      <td>522.764706</td>\n",
              "    </tr>\n",
              "    <tr>\n",
              "      <th>42</th>\n",
              "      <td>13</td>\n",
              "      <td>592.466667</td>\n",
              "      <td>17</td>\n",
              "      <td>467.736842</td>\n",
              "      <td>15</td>\n",
              "      <td>493.722222</td>\n",
              "    </tr>\n",
              "    <tr>\n",
              "      <th>43</th>\n",
              "      <td>13</td>\n",
              "      <td>592.466667</td>\n",
              "      <td>12</td>\n",
              "      <td>634.785714</td>\n",
              "      <td>15</td>\n",
              "      <td>522.764706</td>\n",
              "    </tr>\n",
              "    <tr>\n",
              "      <th>44</th>\n",
              "      <td>17</td>\n",
              "      <td>467.736842</td>\n",
              "      <td>18</td>\n",
              "      <td>444.350000</td>\n",
              "      <td>18</td>\n",
              "      <td>444.350000</td>\n",
              "    </tr>\n",
              "    <tr>\n",
              "      <th>45</th>\n",
              "      <td>17</td>\n",
              "      <td>467.736842</td>\n",
              "      <td>17</td>\n",
              "      <td>467.736842</td>\n",
              "      <td>20</td>\n",
              "      <td>403.954545</td>\n",
              "    </tr>\n",
              "    <tr>\n",
              "      <th>46</th>\n",
              "      <td>18</td>\n",
              "      <td>444.350000</td>\n",
              "      <td>19</td>\n",
              "      <td>423.190476</td>\n",
              "      <td>17</td>\n",
              "      <td>467.736842</td>\n",
              "    </tr>\n",
              "    <tr>\n",
              "      <th>47</th>\n",
              "      <td>9</td>\n",
              "      <td>888.700000</td>\n",
              "      <td>18</td>\n",
              "      <td>423.190476</td>\n",
              "      <td>16</td>\n",
              "      <td>493.722222</td>\n",
              "    </tr>\n",
              "    <tr>\n",
              "      <th>48</th>\n",
              "      <td>18</td>\n",
              "      <td>423.190476</td>\n",
              "      <td>17</td>\n",
              "      <td>444.350000</td>\n",
              "      <td>16</td>\n",
              "      <td>493.722222</td>\n",
              "    </tr>\n",
              "    <tr>\n",
              "      <th>49</th>\n",
              "      <td>18</td>\n",
              "      <td>423.190476</td>\n",
              "      <td>18</td>\n",
              "      <td>423.190476</td>\n",
              "      <td>18</td>\n",
              "      <td>444.350000</td>\n",
              "    </tr>\n",
              "  </tbody>\n",
              "</table>\n",
              "</div>"
            ],
            "text/plain": [
              "    MPG1  CO2 Emission1  MPG2  CO2 Emissions2  MPG3  CO2 Emissions3\n",
              "0     19     423.190476    15      493.722222    17      444.350000\n",
              "1      9     807.909091    15      493.722222    17      467.736842\n",
              "2     23     329.148148    17      444.350000    18      444.350000\n",
              "3     10     807.909091     9      807.909091    17      467.736842\n",
              "4     17     467.736842    15      493.722222    11      683.615385\n",
              "5     21     403.954545    16      493.722222    19      423.190476\n",
              "6     22     355.480000    17      467.736842    21      386.391304\n",
              "7     23     370.291667    17      444.350000    18      444.350000\n",
              "8     23     341.807692    16      493.722222    21      386.391304\n",
              "9     23     355.480000    16      467.736842    19      423.190476\n",
              "10    23     341.807692    15      555.437500    18      444.350000\n",
              "11    18     423.190476    21      386.391304    17      467.736842\n",
              "12    21     370.291667    18      423.190476    19      423.190476\n",
              "13    18     423.190476    13      592.466667    17      467.736842\n",
              "14    12     683.615385    22      355.480000    18      423.190476\n",
              "15    20     386.391304    25      317.392857    15      565.555556\n",
              "16    18     444.350000    18      423.190476    17      467.736842\n",
              "17    19     423.190476    20      403.954545    18      423.190476\n",
              "18    17     467.736842    22      355.480000    17      467.736842\n",
              "19    17     467.736842    25      317.392857    21      386.391304\n",
              "20    14     555.437500    22      341.807692    18      444.350000\n",
              "21    14     555.437500    14      592.466667    21      386.391304\n",
              "22    11     683.615385    21      370.291667    19      423.190476\n",
              "23    21     386.391304    24      317.392857    17      467.736842\n",
              "24    17     467.736842    21      355.480000    18      444.350000\n",
              "25    11     683.615385    19      403.954545    17      467.736842\n",
              "26    18     423.190476    20      386.391304    17      444.350000\n",
              "27    17     444.350000    18      423.190476    16      598.823529\n",
              "28    17     444.350000    18      423.190476    19      423.190476\n",
              "29    17     444.350000    16      493.722222    18      423.190476\n",
              "30    17     444.350000    21      403.954545    16      467.736842\n",
              "31    15     493.722222    22      370.291667    18      423.190476\n",
              "32    15     522.764706    11      740.583333    18      403.954545\n",
              "33    15     493.722222    23      355.480000    15      493.722222\n",
              "34    15     522.764706    23      341.807692    17      444.350000\n",
              "35    18     423.190476    18      423.190476    18      444.350000\n",
              "36    11     683.615385    17      467.736842    18      423.190476\n",
              "37    17     444.350000    18      423.190476    17      467.736842\n",
              "38    17     444.350000    18      444.350000    10      807.909091\n",
              "39    15     493.722222    21      386.391304    17      444.350000\n",
              "40    15     493.722222    19      423.190476    15      493.722222\n",
              "41    18     444.350000    21      386.391304    15      522.764706\n",
              "42    13     592.466667    17      467.736842    15      493.722222\n",
              "43    13     592.466667    12      634.785714    15      522.764706\n",
              "44    17     467.736842    18      444.350000    18      444.350000\n",
              "45    17     467.736842    17      467.736842    20      403.954545\n",
              "46    18     444.350000    19      423.190476    17      467.736842\n",
              "47     9     888.700000    18      423.190476    16      493.722222\n",
              "48    18     423.190476    17      444.350000    16      493.722222\n",
              "49    18     423.190476    18      423.190476    18      444.350000"
            ]
          },
          "metadata": {
            "tags": []
          },
          "execution_count": 6
        }
      ]
    },
    {
      "cell_type": "code",
      "metadata": {
        "id": "T3XzGXGo_ZOo",
        "colab_type": "code",
        "outputId": "e2d586d9-626a-4801-a46f-e444f87e030c",
        "colab": {
          "base_uri": "https://localhost:8080/",
          "height": 1000
        }
      },
      "source": [
        "datasetTwo.head(50)"
      ],
      "execution_count": 7,
      "outputs": [
        {
          "output_type": "execute_result",
          "data": {
            "text/html": [
              "<div>\n",
              "<style scoped>\n",
              "    .dataframe tbody tr th:only-of-type {\n",
              "        vertical-align: middle;\n",
              "    }\n",
              "\n",
              "    .dataframe tbody tr th {\n",
              "        vertical-align: top;\n",
              "    }\n",
              "\n",
              "    .dataframe thead th {\n",
              "        text-align: right;\n",
              "    }\n",
              "</style>\n",
              "<table border=\"1\" class=\"dataframe\">\n",
              "  <thead>\n",
              "    <tr style=\"text-align: right;\">\n",
              "      <th></th>\n",
              "      <th>Traffic1</th>\n",
              "      <th>CO21</th>\n",
              "      <th>Traffic2</th>\n",
              "      <th>CO22</th>\n",
              "      <th>Traffic3</th>\n",
              "      <th>CO23</th>\n",
              "    </tr>\n",
              "  </thead>\n",
              "  <tbody>\n",
              "    <tr>\n",
              "      <th>0</th>\n",
              "      <td>165</td>\n",
              "      <td>350.83</td>\n",
              "      <td>23</td>\n",
              "      <td>101.20</td>\n",
              "      <td>69</td>\n",
              "      <td>213.0</td>\n",
              "    </tr>\n",
              "    <tr>\n",
              "      <th>1</th>\n",
              "      <td>89</td>\n",
              "      <td>200.84</td>\n",
              "      <td>47</td>\n",
              "      <td>156.80</td>\n",
              "      <td>56</td>\n",
              "      <td>165.7</td>\n",
              "    </tr>\n",
              "    <tr>\n",
              "      <th>2</th>\n",
              "      <td>84</td>\n",
              "      <td>234.60</td>\n",
              "      <td>70</td>\n",
              "      <td>214.00</td>\n",
              "      <td>83</td>\n",
              "      <td>234.4</td>\n",
              "    </tr>\n",
              "    <tr>\n",
              "      <th>3</th>\n",
              "      <td>76</td>\n",
              "      <td>227.90</td>\n",
              "      <td>221</td>\n",
              "      <td>354.67</td>\n",
              "      <td>99</td>\n",
              "      <td>272.5</td>\n",
              "    </tr>\n",
              "    <tr>\n",
              "      <th>4</th>\n",
              "      <td>210</td>\n",
              "      <td>369.69</td>\n",
              "      <td>210</td>\n",
              "      <td>149.69</td>\n",
              "      <td>103</td>\n",
              "      <td>286.2</td>\n",
              "    </tr>\n",
              "    <tr>\n",
              "      <th>5</th>\n",
              "      <td>45</td>\n",
              "      <td>154.60</td>\n",
              "      <td>36</td>\n",
              "      <td>144.44</td>\n",
              "      <td>25</td>\n",
              "      <td>108.8</td>\n",
              "    </tr>\n",
              "    <tr>\n",
              "      <th>6</th>\n",
              "      <td>32</td>\n",
              "      <td>138.90</td>\n",
              "      <td>63</td>\n",
              "      <td>200.78</td>\n",
              "      <td>189</td>\n",
              "      <td>330.1</td>\n",
              "    </tr>\n",
              "    <tr>\n",
              "      <th>7</th>\n",
              "      <td>57</td>\n",
              "      <td>169.96</td>\n",
              "      <td>225</td>\n",
              "      <td>420.93</td>\n",
              "      <td>96</td>\n",
              "      <td>263.7</td>\n",
              "    </tr>\n",
              "    <tr>\n",
              "      <th>8</th>\n",
              "      <td>225</td>\n",
              "      <td>420.69</td>\n",
              "      <td>91</td>\n",
              "      <td>265.47</td>\n",
              "      <td>73</td>\n",
              "      <td>222.1</td>\n",
              "    </tr>\n",
              "    <tr>\n",
              "      <th>9</th>\n",
              "      <td>89</td>\n",
              "      <td>263.65</td>\n",
              "      <td>154</td>\n",
              "      <td>366.84</td>\n",
              "      <td>119</td>\n",
              "      <td>296.8</td>\n",
              "    </tr>\n",
              "    <tr>\n",
              "      <th>10</th>\n",
              "      <td>69</td>\n",
              "      <td>220.50</td>\n",
              "      <td>234</td>\n",
              "      <td>425.94</td>\n",
              "      <td>239</td>\n",
              "      <td>430.3</td>\n",
              "    </tr>\n",
              "    <tr>\n",
              "      <th>11</th>\n",
              "      <td>23</td>\n",
              "      <td>101.40</td>\n",
              "      <td>75</td>\n",
              "      <td>215.40</td>\n",
              "      <td>127</td>\n",
              "      <td>309.2</td>\n",
              "    </tr>\n",
              "    <tr>\n",
              "      <th>12</th>\n",
              "      <td>54</td>\n",
              "      <td>163.80</td>\n",
              "      <td>28</td>\n",
              "      <td>111.53</td>\n",
              "      <td>190</td>\n",
              "      <td>335.4</td>\n",
              "    </tr>\n",
              "    <tr>\n",
              "      <th>13</th>\n",
              "      <td>47</td>\n",
              "      <td>156.70</td>\n",
              "      <td>93</td>\n",
              "      <td>274.86</td>\n",
              "      <td>135</td>\n",
              "      <td>319.0</td>\n",
              "    </tr>\n",
              "    <tr>\n",
              "      <th>14</th>\n",
              "      <td>79</td>\n",
              "      <td>217.40</td>\n",
              "      <td>37</td>\n",
              "      <td>142.45</td>\n",
              "      <td>65</td>\n",
              "      <td>202.0</td>\n",
              "    </tr>\n",
              "    <tr>\n",
              "      <th>15</th>\n",
              "      <td>35</td>\n",
              "      <td>143.40</td>\n",
              "      <td>173</td>\n",
              "      <td>321.74</td>\n",
              "      <td>37</td>\n",
              "      <td>145.5</td>\n",
              "    </tr>\n",
              "    <tr>\n",
              "      <th>16</th>\n",
              "      <td>64</td>\n",
              "      <td>201.50</td>\n",
              "      <td>224</td>\n",
              "      <td>362.17</td>\n",
              "      <td>40</td>\n",
              "      <td>150.9</td>\n",
              "    </tr>\n",
              "    <tr>\n",
              "      <th>17</th>\n",
              "      <td>74</td>\n",
              "      <td>225.90</td>\n",
              "      <td>70</td>\n",
              "      <td>221.72</td>\n",
              "      <td>78</td>\n",
              "      <td>217.0</td>\n",
              "    </tr>\n",
              "    <tr>\n",
              "      <th>18</th>\n",
              "      <td>23</td>\n",
              "      <td>107.70</td>\n",
              "      <td>47</td>\n",
              "      <td>156.49</td>\n",
              "      <td>129</td>\n",
              "      <td>315.8</td>\n",
              "    </tr>\n",
              "    <tr>\n",
              "      <th>19</th>\n",
              "      <td>34</td>\n",
              "      <td>140.80</td>\n",
              "      <td>62</td>\n",
              "      <td>190.59</td>\n",
              "      <td>137</td>\n",
              "      <td>320.9</td>\n",
              "    </tr>\n",
              "    <tr>\n",
              "      <th>20</th>\n",
              "      <td>198</td>\n",
              "      <td>339.30</td>\n",
              "      <td>88</td>\n",
              "      <td>198.49</td>\n",
              "      <td>219</td>\n",
              "      <td>363.5</td>\n",
              "    </tr>\n",
              "    <tr>\n",
              "      <th>21</th>\n",
              "      <td>87</td>\n",
              "      <td>197.80</td>\n",
              "      <td>211</td>\n",
              "      <td>370.42</td>\n",
              "      <td>173</td>\n",
              "      <td>321.6</td>\n",
              "    </tr>\n",
              "    <tr>\n",
              "      <th>22</th>\n",
              "      <td>134</td>\n",
              "      <td>318.10</td>\n",
              "      <td>194</td>\n",
              "      <td>335.83</td>\n",
              "      <td>28</td>\n",
              "      <td>111.0</td>\n",
              "    </tr>\n",
              "    <tr>\n",
              "      <th>23</th>\n",
              "      <td>176</td>\n",
              "      <td>323.30</td>\n",
              "      <td>110</td>\n",
              "      <td>291.64</td>\n",
              "      <td>32</td>\n",
              "      <td>140.2</td>\n",
              "    </tr>\n",
              "    <tr>\n",
              "      <th>24</th>\n",
              "      <td>159</td>\n",
              "      <td>337.80</td>\n",
              "      <td>69</td>\n",
              "      <td>220.47</td>\n",
              "      <td>79</td>\n",
              "      <td>221.8</td>\n",
              "    </tr>\n",
              "    <tr>\n",
              "      <th>25</th>\n",
              "      <td>99</td>\n",
              "      <td>275.90</td>\n",
              "      <td>169</td>\n",
              "      <td>315.63</td>\n",
              "      <td>121</td>\n",
              "      <td>298.7</td>\n",
              "    </tr>\n",
              "    <tr>\n",
              "      <th>26</th>\n",
              "      <td>47</td>\n",
              "      <td>156.70</td>\n",
              "      <td>173</td>\n",
              "      <td>321.79</td>\n",
              "      <td>188</td>\n",
              "      <td>334.7</td>\n",
              "    </tr>\n",
              "    <tr>\n",
              "      <th>27</th>\n",
              "      <td>33</td>\n",
              "      <td>141.00</td>\n",
              "      <td>76</td>\n",
              "      <td>221.37</td>\n",
              "      <td>152</td>\n",
              "      <td>366.8</td>\n",
              "    </tr>\n",
              "    <tr>\n",
              "      <th>28</th>\n",
              "      <td>27</td>\n",
              "      <td>110.50</td>\n",
              "      <td>217</td>\n",
              "      <td>326.10</td>\n",
              "      <td>74</td>\n",
              "      <td>219.9</td>\n",
              "    </tr>\n",
              "    <tr>\n",
              "      <th>29</th>\n",
              "      <td>70</td>\n",
              "      <td>215.89</td>\n",
              "      <td>156</td>\n",
              "      <td>368.60</td>\n",
              "      <td>63</td>\n",
              "      <td>189.3</td>\n",
              "    </tr>\n",
              "    <tr>\n",
              "      <th>30</th>\n",
              "      <td>155</td>\n",
              "      <td>367.90</td>\n",
              "      <td>216</td>\n",
              "      <td>416.18</td>\n",
              "      <td>85</td>\n",
              "      <td>236.4</td>\n",
              "    </tr>\n",
              "    <tr>\n",
              "      <th>31</th>\n",
              "      <td>209</td>\n",
              "      <td>350.90</td>\n",
              "      <td>55</td>\n",
              "      <td>160.34</td>\n",
              "      <td>99</td>\n",
              "      <td>275.9</td>\n",
              "    </tr>\n",
              "    <tr>\n",
              "      <th>32</th>\n",
              "      <td>213</td>\n",
              "      <td>359.50</td>\n",
              "      <td>38</td>\n",
              "      <td>143.17</td>\n",
              "      <td>105</td>\n",
              "      <td>289.4</td>\n",
              "    </tr>\n",
              "    <tr>\n",
              "      <th>33</th>\n",
              "      <td>136</td>\n",
              "      <td>320.50</td>\n",
              "      <td>61</td>\n",
              "      <td>187.32</td>\n",
              "      <td>220</td>\n",
              "      <td>420.1</td>\n",
              "    </tr>\n",
              "    <tr>\n",
              "      <th>34</th>\n",
              "      <td>205</td>\n",
              "      <td>335.70</td>\n",
              "      <td>36</td>\n",
              "      <td>144.72</td>\n",
              "      <td>135</td>\n",
              "      <td>319.8</td>\n",
              "    </tr>\n",
              "    <tr>\n",
              "      <th>35</th>\n",
              "      <td>220</td>\n",
              "      <td>420.10</td>\n",
              "      <td>60</td>\n",
              "      <td>211.64</td>\n",
              "      <td>215</td>\n",
              "      <td>360.1</td>\n",
              "    </tr>\n",
              "    <tr>\n",
              "      <th>36</th>\n",
              "      <td>210</td>\n",
              "      <td>345.70</td>\n",
              "      <td>29</td>\n",
              "      <td>135.84</td>\n",
              "      <td>73</td>\n",
              "      <td>224.0</td>\n",
              "    </tr>\n",
              "    <tr>\n",
              "      <th>37</th>\n",
              "      <td>169</td>\n",
              "      <td>315.50</td>\n",
              "      <td>71</td>\n",
              "      <td>216.30</td>\n",
              "      <td>49</td>\n",
              "      <td>158.0</td>\n",
              "    </tr>\n",
              "    <tr>\n",
              "      <th>38</th>\n",
              "      <td>198</td>\n",
              "      <td>349.90</td>\n",
              "      <td>48</td>\n",
              "      <td>157.27</td>\n",
              "      <td>152</td>\n",
              "      <td>366.6</td>\n",
              "    </tr>\n",
              "    <tr>\n",
              "      <th>39</th>\n",
              "      <td>178</td>\n",
              "      <td>325.80</td>\n",
              "      <td>37</td>\n",
              "      <td>134.80</td>\n",
              "      <td>69</td>\n",
              "      <td>213.0</td>\n",
              "    </tr>\n",
              "    <tr>\n",
              "      <th>40</th>\n",
              "      <td>156</td>\n",
              "      <td>370.20</td>\n",
              "      <td>52</td>\n",
              "      <td>182.23</td>\n",
              "      <td>172</td>\n",
              "      <td>361.2</td>\n",
              "    </tr>\n",
              "    <tr>\n",
              "      <th>41</th>\n",
              "      <td>97</td>\n",
              "      <td>270.20</td>\n",
              "      <td>168</td>\n",
              "      <td>360.83</td>\n",
              "      <td>230</td>\n",
              "      <td>425.7</td>\n",
              "    </tr>\n",
              "    <tr>\n",
              "      <th>42</th>\n",
              "      <td>105</td>\n",
              "      <td>289.40</td>\n",
              "      <td>128</td>\n",
              "      <td>308.94</td>\n",
              "      <td>58</td>\n",
              "      <td>186.4</td>\n",
              "    </tr>\n",
              "    <tr>\n",
              "      <th>43</th>\n",
              "      <td>121</td>\n",
              "      <td>298.70</td>\n",
              "      <td>215</td>\n",
              "      <td>360.13</td>\n",
              "      <td>245</td>\n",
              "      <td>425.7</td>\n",
              "    </tr>\n",
              "    <tr>\n",
              "      <th>44</th>\n",
              "      <td>81</td>\n",
              "      <td>234.20</td>\n",
              "      <td>177</td>\n",
              "      <td>325.60</td>\n",
              "      <td>213</td>\n",
              "      <td>323.1</td>\n",
              "    </tr>\n",
              "    <tr>\n",
              "      <th>45</th>\n",
              "      <td>63</td>\n",
              "      <td>189.30</td>\n",
              "      <td>214</td>\n",
              "      <td>324.60</td>\n",
              "      <td>121</td>\n",
              "      <td>303.5</td>\n",
              "    </tr>\n",
              "    <tr>\n",
              "      <th>46</th>\n",
              "      <td>214</td>\n",
              "      <td>324.70</td>\n",
              "      <td>205</td>\n",
              "      <td>335.80</td>\n",
              "      <td>93</td>\n",
              "      <td>265.6</td>\n",
              "    </tr>\n",
              "    <tr>\n",
              "      <th>47</th>\n",
              "      <td>177</td>\n",
              "      <td>325.10</td>\n",
              "      <td>184</td>\n",
              "      <td>331.50</td>\n",
              "      <td>129</td>\n",
              "      <td>309.8</td>\n",
              "    </tr>\n",
              "    <tr>\n",
              "      <th>48</th>\n",
              "      <td>143</td>\n",
              "      <td>359.90</td>\n",
              "      <td>29</td>\n",
              "      <td>106.20</td>\n",
              "      <td>91</td>\n",
              "      <td>260.3</td>\n",
              "    </tr>\n",
              "    <tr>\n",
              "      <th>49</th>\n",
              "      <td>128</td>\n",
              "      <td>310.20</td>\n",
              "      <td>41</td>\n",
              "      <td>152.80</td>\n",
              "      <td>88</td>\n",
              "      <td>199.6</td>\n",
              "    </tr>\n",
              "  </tbody>\n",
              "</table>\n",
              "</div>"
            ],
            "text/plain": [
              "    Traffic1    CO21  Traffic2    CO22  Traffic3   CO23\n",
              "0        165  350.83        23  101.20        69  213.0\n",
              "1         89  200.84        47  156.80        56  165.7\n",
              "2         84  234.60        70  214.00        83  234.4\n",
              "3         76  227.90       221  354.67        99  272.5\n",
              "4        210  369.69       210  149.69       103  286.2\n",
              "5         45  154.60        36  144.44        25  108.8\n",
              "6         32  138.90        63  200.78       189  330.1\n",
              "7         57  169.96       225  420.93        96  263.7\n",
              "8        225  420.69        91  265.47        73  222.1\n",
              "9         89  263.65       154  366.84       119  296.8\n",
              "10        69  220.50       234  425.94       239  430.3\n",
              "11        23  101.40        75  215.40       127  309.2\n",
              "12        54  163.80        28  111.53       190  335.4\n",
              "13        47  156.70        93  274.86       135  319.0\n",
              "14        79  217.40        37  142.45        65  202.0\n",
              "15        35  143.40       173  321.74        37  145.5\n",
              "16        64  201.50       224  362.17        40  150.9\n",
              "17        74  225.90        70  221.72        78  217.0\n",
              "18        23  107.70        47  156.49       129  315.8\n",
              "19        34  140.80        62  190.59       137  320.9\n",
              "20       198  339.30        88  198.49       219  363.5\n",
              "21        87  197.80       211  370.42       173  321.6\n",
              "22       134  318.10       194  335.83        28  111.0\n",
              "23       176  323.30       110  291.64        32  140.2\n",
              "24       159  337.80        69  220.47        79  221.8\n",
              "25        99  275.90       169  315.63       121  298.7\n",
              "26        47  156.70       173  321.79       188  334.7\n",
              "27        33  141.00        76  221.37       152  366.8\n",
              "28        27  110.50       217  326.10        74  219.9\n",
              "29        70  215.89       156  368.60        63  189.3\n",
              "30       155  367.90       216  416.18        85  236.4\n",
              "31       209  350.90        55  160.34        99  275.9\n",
              "32       213  359.50        38  143.17       105  289.4\n",
              "33       136  320.50        61  187.32       220  420.1\n",
              "34       205  335.70        36  144.72       135  319.8\n",
              "35       220  420.10        60  211.64       215  360.1\n",
              "36       210  345.70        29  135.84        73  224.0\n",
              "37       169  315.50        71  216.30        49  158.0\n",
              "38       198  349.90        48  157.27       152  366.6\n",
              "39       178  325.80        37  134.80        69  213.0\n",
              "40       156  370.20        52  182.23       172  361.2\n",
              "41        97  270.20       168  360.83       230  425.7\n",
              "42       105  289.40       128  308.94        58  186.4\n",
              "43       121  298.70       215  360.13       245  425.7\n",
              "44        81  234.20       177  325.60       213  323.1\n",
              "45        63  189.30       214  324.60       121  303.5\n",
              "46       214  324.70       205  335.80        93  265.6\n",
              "47       177  325.10       184  331.50       129  309.8\n",
              "48       143  359.90        29  106.20        91  260.3\n",
              "49       128  310.20        41  152.80        88  199.6"
            ]
          },
          "metadata": {
            "tags": []
          },
          "execution_count": 7
        }
      ]
    },
    {
      "cell_type": "markdown",
      "metadata": {
        "id": "GTTIxcQuAgMN",
        "colab_type": "text"
      },
      "source": [
        "# Data set 1 - Finding best route based on co2 emissions - Fuel economy"
      ]
    },
    {
      "cell_type": "code",
      "metadata": {
        "id": "Nr4qrQacAqkH",
        "colab_type": "code",
        "outputId": "c6d502a8-e1ca-4f5e-f45d-535ed15230d1",
        "colab": {
          "base_uri": "https://localhost:8080/",
          "height": 302
        }
      },
      "source": [
        "emissionA = datasetOne['CO2 Emission1'] #y - axis\n",
        "mpgA = datasetOne['MPG1'] #x - axis\n",
        "\n",
        "plt.scatter(mpgA,emissionA)\n",
        "plt.xlabel('MPG for Route A')\n",
        "plt.ylabel('Co2 Emissions for Route A')"
      ],
      "execution_count": 8,
      "outputs": [
        {
          "output_type": "execute_result",
          "data": {
            "text/plain": [
              "Text(0, 0.5, 'Co2 Emissions for Route A')"
            ]
          },
          "metadata": {
            "tags": []
          },
          "execution_count": 8
        },
        {
          "output_type": "display_data",
          "data": {
            "image/png": "[encoded data removed]",
            "text/plain": [
              "<Figure size 432x288 with 1 Axes>"
            ]
          },
          "metadata": {
            "tags": []
          }
        }
      ]
    },
    {
      "cell_type": "markdown",
      "metadata": {
        "id": "1GXWby-wI-oJ",
        "colab_type": "text"
      },
      "source": [
        "Linear Regression model"
      ]
    },
    {
      "cell_type": "code",
      "metadata": {
        "id": "5yPfKV5dJBaX",
        "colab_type": "code",
        "outputId": "ef157284-ad7c-45b6-ac0f-dbdd0ad00385",
        "colab": {
          "base_uri": "https://localhost:8080/",
          "height": 302
        }
      },
      "source": [
        "XA = mpgA.values.reshape(-1,1)\n",
        "YA = emissionA.values.reshape(-1,1)\n",
        "\n",
        "from sklearn.model_selection import train_test_split\n",
        "\n",
        "XA_train, XA_test, YA_train, YA_test = train_test_split(XA,YA,test_size = 0.35, random_state = 1)\n",
        "\n",
        "from sklearn.linear_model import LinearRegression\n",
        "\n",
        "regressor = LinearRegression()\n",
        "\n",
        "regressor.fit(XA_train,YA_train);\n",
        "\n",
        "yA_pred = regressor.predict(XA_test);\n",
        "\n",
        "plt.scatter(mpgA,emissionA)\n",
        "plt.xlabel('MPG for Route A')\n",
        "plt.ylabel('Co2 Emissions for Route A')\n",
        "plt.plot(XA_test,yA_pred,color = 'red');\n",
        "plt.show()\n",
        "\n",
        "print(regressor.score(XA_train,YA_train))\n",
        "\n",
        "\n"
      ],
      "execution_count": 9,
      "outputs": [
        {
          "output_type": "display_data",
          "data": {
            "image/png": "[encoded data removed]",
            "text/plain": [
              "<Figure size 432x288 with 1 Axes>"
            ]
          },
          "metadata": {
            "tags": []
          }
        },
        {
          "output_type": "stream",
          "text": [
            "0.9152722865773731\n"
          ],
          "name": "stdout"
        }
      ]
    },
    {
      "cell_type": "code",
      "metadata": {
        "id": "nPDU6cGhBCyi",
        "colab_type": "code",
        "outputId": "cd909516-0f55-4ab2-ad9e-4151e0d4f375",
        "colab": {
          "base_uri": "https://localhost:8080/",
          "height": 302
        }
      },
      "source": [
        "emissionB = datasetOne['CO2 Emissions2']\n",
        "\n",
        "mpgB = datasetOne['MPG2']\n",
        "\n",
        "plt.scatter(mpgB,emissionB)\n",
        "plt.xlabel('MPG for Route B')\n",
        "plt.ylabel('Co2 Emissions for Route B')\n",
        "\n"
      ],
      "execution_count": 10,
      "outputs": [
        {
          "output_type": "execute_result",
          "data": {
            "text/plain": [
              "Text(0, 0.5, 'Co2 Emissions for Route B')"
            ]
          },
          "metadata": {
            "tags": []
          },
          "execution_count": 10
        },
        {
          "output_type": "display_data",
          "data": {
            "image/png": "[encoded data removed]",
            "text/plain": [
              "<Figure size 432x288 with 1 Axes>"
            ]
          },
          "metadata": {
            "tags": []
          }
        }
      ]
    },
    {
      "cell_type": "markdown",
      "metadata": {
        "id": "XDcRINqjzLr2",
        "colab_type": "text"
      },
      "source": [
        "Linear Regression"
      ]
    },
    {
      "cell_type": "code",
      "metadata": {
        "id": "L7XfA0XuzOxG",
        "colab_type": "code",
        "outputId": "aaa7e483-d55f-4cde-e7aa-6611f40438f6",
        "colab": {
          "base_uri": "https://localhost:8080/",
          "height": 302
        }
      },
      "source": [
        "XB = mpgB.values.reshape(-1,1)\n",
        "YB = emissionB.values.reshape(-1,1)\n",
        "\n",
        "from sklearn.model_selection import train_test_split\n",
        "\n",
        "XB_train, XB_test, YB_train, YB_test = train_test_split(XB,YB,test_size = 0.35, random_state = 1)\n",
        "\n",
        "from sklearn.linear_model import LinearRegression\n",
        "\n",
        "regressor = LinearRegression()\n",
        "\n",
        "regressor.fit(XB_train,YB_train);\n",
        "\n",
        "yB_pred = regressor.predict(XB_test);\n",
        "\n",
        "plt.scatter(mpgB,emissionB)\n",
        "plt.xlabel('MPG for Route B')\n",
        "plt.ylabel('Co2 Emissions for Route B')\n",
        "plt.plot(XB_test,yB_pred,color = 'red');\n",
        "plt.show()\n",
        "\n",
        "print(regressor.score(XB_train,YB_train))\n",
        "\n"
      ],
      "execution_count": 11,
      "outputs": [
        {
          "output_type": "display_data",
          "data": {
            "image/png": "[encoded data removed]",
            "text/plain": [
              "<Figure size 432x288 with 1 Axes>"
            ]
          },
          "metadata": {
            "tags": []
          }
        },
        {
          "output_type": "stream",
          "text": [
            "0.9244373265903751\n"
          ],
          "name": "stdout"
        }
      ]
    },
    {
      "cell_type": "code",
      "metadata": {
        "id": "dp8l2eanBoXo",
        "colab_type": "code",
        "outputId": "25e7ae10-4f6c-4767-8b10-6ebcd52778f7",
        "colab": {
          "base_uri": "https://localhost:8080/",
          "height": 302
        }
      },
      "source": [
        "emissionC = datasetOne['CO2 Emissions3']\n",
        "\n",
        "mpgC = datasetOne['MPG3']\n",
        "\n",
        "plt.scatter(mpgC,emissionC)\n",
        "plt.xlabel('MPG for Route C')\n",
        "plt.ylabel('Co2 Emissions for Route C')"
      ],
      "execution_count": 12,
      "outputs": [
        {
          "output_type": "execute_result",
          "data": {
            "text/plain": [
              "Text(0, 0.5, 'Co2 Emissions for Route C')"
            ]
          },
          "metadata": {
            "tags": []
          },
          "execution_count": 12
        },
        {
          "output_type": "display_data",
          "data": {
            "image/png": "[encoded data removed]",
            "text/plain": [
              "<Figure size 432x288 with 1 Axes>"
            ]
          },
          "metadata": {
            "tags": []
          }
        }
      ]
    },
    {
      "cell_type": "markdown",
      "metadata": {
        "id": "C23hs_fQzqc3",
        "colab_type": "text"
      },
      "source": [
        "Linear Regression"
      ]
    },
    {
      "cell_type": "code",
      "metadata": {
        "id": "rpHxJ7Qbzsse",
        "colab_type": "code",
        "outputId": "6be09869-5688-4377-9968-b949cf75589a",
        "colab": {
          "base_uri": "https://localhost:8080/",
          "height": 302
        }
      },
      "source": [
        "XC = mpgC.values.reshape(-1,1)\n",
        "YC = emissionC.values.reshape(-1,1)\n",
        "\n",
        "from sklearn.model_selection import train_test_split\n",
        "\n",
        "XC_train, XC_test, YC_train, YC_test = train_test_split(XC,YC,test_size = 0.35, random_state = 1)\n",
        "\n",
        "from sklearn.linear_model import LinearRegression\n",
        "\n",
        "regressor = LinearRegression()\n",
        "\n",
        "regressor.fit(XC_train,YC_train);\n",
        "\n",
        "yC_pred = regressor.predict(XC_test);\n",
        "\n",
        "plt.scatter(mpgC,emissionC)\n",
        "plt.xlabel('MPG for Route C')\n",
        "plt.ylabel('Co2 Emissions for Route C')\n",
        "plt.plot(XC_test,yC_pred,color = 'red');\n",
        "plt.show()\n",
        "\n",
        "print(regressor.score(XC_train,YC_train))\n",
        "\n"
      ],
      "execution_count": 13,
      "outputs": [
        {
          "output_type": "display_data",
          "data": {
            "image/png": "[encoded data removed]",
            "text/plain": [
              "<Figure size 432x288 with 1 Axes>"
            ]
          },
          "metadata": {
            "tags": []
          }
        },
        {
          "output_type": "stream",
          "text": [
            "0.89467670000807\n"
          ],
          "name": "stdout"
        }
      ]
    },
    {
      "cell_type": "markdown",
      "metadata": {
        "id": "zaDwOC2uDATu",
        "colab_type": "text"
      },
      "source": [
        "# Dataset 2 - To finalize the route - CO2 emissions vs Traffic in the route"
      ]
    },
    {
      "cell_type": "code",
      "metadata": {
        "id": "PNP7rNqpDME4",
        "colab_type": "code",
        "outputId": "b8bc8f26-515d-4693-ac11-ed86b35a42b8",
        "colab": {
          "base_uri": "https://localhost:8080/",
          "height": 302
        }
      },
      "source": [
        "trafficA = datasetTwo['Traffic1']\n",
        "\n",
        "emissionsA2 = datasetTwo['CO21']\n",
        "\n",
        "plt.scatter(trafficA,emissionsA2)\n",
        "plt.xlabel('traffic for Route A')\n",
        "plt.ylabel('Co2 Emissions for Route A')"
      ],
      "execution_count": 14,
      "outputs": [
        {
          "output_type": "execute_result",
          "data": {
            "text/plain": [
              "Text(0, 0.5, 'Co2 Emissions for Route A')"
            ]
          },
          "metadata": {
            "tags": []
          },
          "execution_count": 14
        },
        {
          "output_type": "display_data",
          "data": {
            "image/png": "[encoded data removed]",
            "text/plain": [
              "<Figure size 432x288 with 1 Axes>"
            ]
          },
          "metadata": {
            "tags": []
          }
        }
      ]
    },
    {
      "cell_type": "markdown",
      "metadata": {
        "id": "aInEtNg5z_5Z",
        "colab_type": "text"
      },
      "source": [
        "Linear Regression"
      ]
    },
    {
      "cell_type": "code",
      "metadata": {
        "id": "bmHS1ijJ0D71",
        "colab_type": "code",
        "outputId": "24aeabd2-a65d-407c-d2f6-7dc51ddc5a1c",
        "colab": {
          "base_uri": "https://localhost:8080/",
          "height": 302
        }
      },
      "source": [
        "XA2 = trafficA.values.reshape(-1,1)\n",
        "YA2 = emissionsA2.values.reshape(-1,1)\n",
        "\n",
        "from sklearn.model_selection import train_test_split\n",
        "\n",
        "XA2_train, XA2_test, YA2_train, YA2_test = train_test_split(XA2,YA2,test_size = 0.35, random_state = 1)\n",
        "\n",
        "from sklearn.linear_model import LinearRegression\n",
        "\n",
        "regressor = LinearRegression()\n",
        "\n",
        "regressor.fit(XA2_train,YA2_train);\n",
        "\n",
        "yA2_pred = regressor.predict(XA2_test);\n",
        "\n",
        "\n",
        "plt.scatter(trafficA,emissionsA2)\n",
        "plt.xlabel('traffic for Route A')\n",
        "plt.ylabel('Co2 Emissions for Route A')\n",
        "plt.plot(XA2_test,yA2_pred,color = 'red');\n",
        "plt.show()\n",
        "\n",
        "print(regressor.score(XA2_train,YA2_train))\n",
        "\n",
        "\n",
        "\n"
      ],
      "execution_count": 15,
      "outputs": [
        {
          "output_type": "display_data",
          "data": {
            "image/png": "[encoded data removed]",
            "text/plain": [
              "<Figure size 432x288 with 1 Axes>"
            ]
          },
          "metadata": {
            "tags": []
          }
        },
        {
          "output_type": "stream",
          "text": [
            "0.9147126665935555\n"
          ],
          "name": "stdout"
        }
      ]
    },
    {
      "cell_type": "code",
      "metadata": {
        "id": "Rx43K8OXDcUw",
        "colab_type": "code",
        "outputId": "a05d80da-89c6-4d28-bb51-26a59e56f803",
        "colab": {
          "base_uri": "https://localhost:8080/",
          "height": 302
        }
      },
      "source": [
        "trafficB = datasetTwo['Traffic2']\n",
        "\n",
        "emissionsB2 = datasetTwo['CO22']\n",
        "\n",
        "plt.scatter(trafficB,emissionsB2)\n",
        "plt.xlabel('traffic for Route B')\n",
        "plt.ylabel('Co2 Emissions for Route B')"
      ],
      "execution_count": 16,
      "outputs": [
        {
          "output_type": "execute_result",
          "data": {
            "text/plain": [
              "Text(0, 0.5, 'Co2 Emissions for Route B')"
            ]
          },
          "metadata": {
            "tags": []
          },
          "execution_count": 16
        },
        {
          "output_type": "display_data",
          "data": {
            "image/png": "[encoded data removed]",
            "text/plain": [
              "<Figure size 432x288 with 1 Axes>"
            ]
          },
          "metadata": {
            "tags": []
          }
        }
      ]
    },
    {
      "cell_type": "markdown",
      "metadata": {
        "id": "VMkSmbli21sQ",
        "colab_type": "text"
      },
      "source": [
        "Linear Regression"
      ]
    },
    {
      "cell_type": "code",
      "metadata": {
        "id": "awZWc8LC24OU",
        "colab_type": "code",
        "outputId": "75922657-cf35-4efb-898c-cf709067c620",
        "colab": {
          "base_uri": "https://localhost:8080/",
          "height": 302
        }
      },
      "source": [
        "XB2 = trafficB.values.reshape(-1,1)\n",
        "YB2 = emissionsB2.values.reshape(-1,1)\n",
        "\n",
        "from sklearn.model_selection import train_test_split\n",
        "\n",
        "XB2_train, XB2_test, YB2_train, YB2_test = train_test_split(XB2,YB2,test_size = 0.35, random_state = 1)\n",
        "\n",
        "from sklearn.linear_model import LinearRegression\n",
        "\n",
        "regressor = LinearRegression()\n",
        "\n",
        "regressor.fit(XB2_train,YB2_train);\n",
        "\n",
        "yB2_pred = regressor.predict(XB2_test);\n",
        "\n",
        "\n",
        "plt.scatter(trafficB,emissionsB2)\n",
        "plt.xlabel('traffic for Route B')\n",
        "plt.ylabel('Co2 Emissions for Route B')\n",
        "plt.plot(XB2_test,yB2_pred,color = 'red');\n",
        "plt.show()\n",
        "\n",
        "print(regressor.score(XB2_train,YB2_train))\n",
        "\n"
      ],
      "execution_count": 17,
      "outputs": [
        {
          "output_type": "display_data",
          "data": {
            "image/png": "[encoded data removed]",
            "text/plain": [
              "<Figure size 432x288 with 1 Axes>"
            ]
          },
          "metadata": {
            "tags": []
          }
        },
        {
          "output_type": "stream",
          "text": [
            "0.7459136363803789\n"
          ],
          "name": "stdout"
        }
      ]
    },
    {
      "cell_type": "code",
      "metadata": {
        "id": "CZPUxuQbDoRG",
        "colab_type": "code",
        "outputId": "a1e71ca9-8d81-486d-a4ee-c8c125776baf",
        "colab": {
          "base_uri": "https://localhost:8080/",
          "height": 302
        }
      },
      "source": [
        "trafficC = datasetTwo['Traffic3']\n",
        "\n",
        "emissionsC2 = datasetTwo['CO23']\n",
        "\n",
        "plt.scatter(trafficC,emissionsC2)\n",
        "plt.xlabel('traffic for Route C')\n",
        "plt.ylabel('Co2 Emissions for Route C')"
      ],
      "execution_count": 18,
      "outputs": [
        {
          "output_type": "execute_result",
          "data": {
            "text/plain": [
              "Text(0, 0.5, 'Co2 Emissions for Route C')"
            ]
          },
          "metadata": {
            "tags": []
          },
          "execution_count": 18
        },
        {
          "output_type": "display_data",
          "data": {
            "image/png": "[encoded data removed]",
            "text/plain": [
              "<Figure size 432x288 with 1 Axes>"
            ]
          },
          "metadata": {
            "tags": []
          }
        }
      ]
    },
    {
      "cell_type": "markdown",
      "metadata": {
        "id": "4aYMsw9J4WxD",
        "colab_type": "text"
      },
      "source": [
        "Linear Regression"
      ]
    },
    {
      "cell_type": "code",
      "metadata": {
        "id": "3JY9jdT74YaQ",
        "colab_type": "code",
        "outputId": "79b5070c-3f08-466e-fcd6-d288c280f17e",
        "colab": {
          "base_uri": "https://localhost:8080/",
          "height": 302
        }
      },
      "source": [
        "XC2 = trafficC.values.reshape(-1,1)\n",
        "YC2 = emissionsC2.values.reshape(-1,1)\n",
        "\n",
        "from sklearn.model_selection import train_test_split\n",
        "\n",
        "XC2_train, XC2_test, YC2_train, YC2_test = train_test_split(XB2,YB2,test_size = 0.35, random_state = 1)\n",
        "\n",
        "from sklearn.linear_model import LinearRegression\n",
        "\n",
        "regressor = LinearRegression()\n",
        "\n",
        "regressor.fit(XC2_train,YC2_train);\n",
        "\n",
        "yC2_pred = regressor.predict(XC2_test);\n",
        "\n",
        "\n",
        "plt.scatter(trafficC,emissionsC2)\n",
        "plt.xlabel('traffic for Route C')\n",
        "plt.ylabel('Co2 Emissions for Route C')\n",
        "plt.plot(XC2_test,yC2_pred,color = 'red');\n",
        "plt.show()\n",
        "\n",
        "print(regressor.score(XC2_train,YC2_train))\n",
        "\n"
      ],
      "execution_count": 19,
      "outputs": [
        {
          "output_type": "display_data",
          "data": {
            "image/png": "[encoded data removed]",
            "text/plain": [
              "<Figure size 432x288 with 1 Axes>"
            ]
          },
          "metadata": {
            "tags": []
          }
        },
        {
          "output_type": "stream",
          "text": [
            "0.7459136363803789\n"
          ],
          "name": "stdout"
        }
      ]
    }
  ]
}